{
 "cells": [
  {
   "cell_type": "code",
   "execution_count": 11,
   "id": "7ad7c699",
   "metadata": {},
   "outputs": [
    {
     "name": "stdout",
     "output_type": "stream",
     "text": [
      "[{'areaCode': 'hongjunshi', 'areaName': {'first': '红军师师史馆', 'last': '张店区'}, 'info': {'id': 1, 'code': 'hongjunshi', 'mainPic': 'https://djditu.oss-cn-qingdao.aliyuncs.com/area/hongjunshi_head.jpg', 'name': '红军师师史馆', 'info': '位于山东淄博张店区人民西路48号。71345部队前身为中国工农红军第一方面军第一军团第一师，在开国大典上代表人民解放军陆军主力组建12支步兵方队，被誉为“开国大典红一师”。红军师师史馆馆名由开国上将杨成武将军亲提，馆内由序幕厅、第一展厅、第二展厅和黑陶画厅组成，展示了“开国大典红一师”的诞生、战斗历程和精神风貌。', 'concatPerson': 15205332001, 'bannerList': ['https://djditu.oss-cn-qingdao.aliyuncs.com/area/hongjunshi_head.jpg'], 'notice': '为保证参观效果，建议参观人数控制在40人内；红军师师史馆受部队管控，不允许在馆内、门口拍摄照片，不允许拍摄集体合照、不允许进行任何宣传。提前准备事项：参观红军师师史馆需提前发函，列明参观单位名称、时间、人数、事由，并附表列明姓名、职务等信息。', 'line': '分局出发（车程40分钟）——沣水镇红色东高革命教育基地（40分钟）—（车程15分钟）—淄博知青博物馆（30分钟）—（车程30分钟）—红军师师史馆（40分钟）——返回（车程10分钟）'}, 'callout': {'id': 1, 'latitude': 36.81465, 'longitude': 118.040405}}, {'areaCode': 'zhiqing', 'areaName': {'first': '知青博物馆', 'last': '张店区'}, 'info': {'id': 1, 'code': 'zhiqing', 'mainPic': 'https://djditu.oss-cn-qingdao.aliyuncs.com/area/zhiqing_head.jpg', 'name': '淄博知青博物馆', 'info': '位于淄博市经开区沣水镇张一村工业园一路，于2019年建立，占地面积约1500亩，该馆共收集淄博知青在各个不同时期的文件、图片、资料一千六百多件，知青使用过的生活物品、乐器、书籍等各类实物近千件。以知青下乡地点为脉络，用质朴自然的展陈形式，客观真实地反映了当年淄博知青的生活情景和广大知情战斗天地的精神风貌。', 'concatPerson': 15205332002, 'bannerList': ['https://djditu.oss-cn-qingdao.aliyuncs.com/area/zhiqing_1.jpg', 'https://djditu.oss-cn-qingdao.aliyuncs.com/area/zhiqing_2.jpg'], 'notice': '为保证参观效果，建议参观人数控制在20人内；建议在淄博知青博物馆展馆前拍一张集体合照。提前准备事项：参观红色东高革命教育基地和淄博知青博物馆需提前电话预约。', 'line': '分局出发（车程40分钟）——沣水镇红色东高革命教育基地（40分钟）—（车程15分钟）—淄博知青博物馆（30分钟）—（车程30分钟）—红军师师史馆（40分钟）——返回（车程10分钟）'}, 'callout': {'id': 1, 'latitude': 36.775708, 'longitude': 118.103451}}, {'areaCode': 'fengshuizhen', 'areaName': {'first': '沣水镇红色东高革命教育基地', 'last': '张店区'}, 'info': {'id': 1, 'code': 'fengshuizhen', 'mainPic': 'https://djditu.oss-cn-qingdao.aliyuncs.com/area/fengshuizhen_head.jpg', 'name': '沣水镇红色东高革命教育基地', 'info': '位于山东淄博市张店区沣水镇东高村。东高村是沣水镇“革命第一村”，是张店区重要的党性教育基地，同时也是革命传统教育和爱国主义教育的重要场所。基地包含红色东高纪念馆、赵克岭和曹文故居、红色文化广场三部分。红色东高纪念馆在沣水地区第一个党支部旧址上修缮扩建，由岗哨楼、红色东高纪念馆、致合堂药店遗址和党支部秘密活动室组成，集中展示了从东高村走出的10名高级将领和20多名抗日志士的事迹、资料、遗物等。赵克岭、曹文故居主要介绍两名烈士英勇牺牲的革命历史。主要包含以下看点：故居院内与党支部联络地道；赵克岭、曹文烈士故居；具有八百年历史的国槐，曹文烈士被捕后被吊在古槐上严刑拷打，最终被敌人残忍杀害。红色文化广场主要介绍沣水镇、东高村建村发展史。', 'concatPerson': 15205332003, 'bannerList': ['https://djditu.oss-cn-qingdao.aliyuncs.com/area/fengshuizhen_head.jpg'], 'notice': '为保证参观效果，建议参观人数控制在20人内；建议在东高村委和红色文化广场各拍一张集体合照；可视参观时间在东高村内自由参观。', 'line': '分局出发（车程40分钟）——沣水镇红色东高革命教育基地（40分钟）—（车程15分钟）—淄博知青博物馆（30分钟）—（车程30分钟）—红军师师史馆（40分钟）——返回（车程10分钟）'}, 'callout': {'id': 1, 'latitude': 36.757827, 'longitude': 118.124872}}]\n"
     ]
    }
   ],
   "source": [
    "import pandas as pd\n",
    "import ast\n",
    "\n",
    "# 读取 Excel 文件\n",
    "excel_file = '阵地.xlsx'  # 请替换为实际的 Excel 文件名\n",
    "df = pd.read_excel(excel_file)\n",
    "\n",
    "# 将 DataFrame 转换为 JSON 对象数组\n",
    "json_array = []\n",
    "\n",
    "for _, row in df.iterrows():\n",
    "    json_obj = {}\n",
    "    for col, val in row.items():\n",
    "        keys = col.split('.')\n",
    "        current_obj = json_obj\n",
    "        for key in keys[:-1]:\n",
    "            if key not in current_obj:\n",
    "                current_obj[key] = {}\n",
    "            current_obj = current_obj[key]\n",
    "        if keys[-1] not in current_obj:\n",
    "            try:\n",
    "                current_obj[keys[-1]] = ast.literal_eval(val)  # Convert string to list\n",
    "            except (ValueError, SyntaxError):  # Handle the case when the value is not a valid literal\n",
    "                current_obj[keys[-1]] = val\n",
    "    json_array.append(json_obj)\n",
    "\n",
    "# 打印结果\n",
    "print(json_array)"
   ]
  },
  {
   "cell_type": "code",
   "execution_count": 15,
   "id": "d8efb40d",
   "metadata": {},
   "outputs": [
    {
     "name": "stdout",
     "output_type": "stream",
     "text": [
      "[\n",
      "  {\n",
      "    \"id\": 1,\n",
      "    \"title\": \"路线五：红色党史教育\",\n",
      "    \"name\": \"路线五：红色党史教育\",\n",
      "    \"mapurl\": \"https://djditu.oss-cn-qingdao.aliyuncs.com/line/luxian5.png\",\n",
      "    \"desc1\": \"红色党史教育\",\n",
      "    \"desc2\": \"分局出发（车程40分钟）——沣水镇红色东高革命教育基地（40分钟）—（车程15分钟）—淄博知青博物馆（30分钟）—（车程30分钟）—红军师师史馆（40分钟）——返回（车程10分钟）\\n\\n1.乘车前往沣水镇红色东高革命教育基地。早8:30从分局乘车出发，前往沣水镇红色东高革命教育基地，大约9:10到达。 2.参观沣水镇红色东高革命教育基地。9:30开始参观，大约10:10结束。\",\n",
      "    \"desc3\": \"【沣水镇红色东高革命教育基地】位于山东淄博市张店区沣水镇东高村。东高村是沣水镇“革命第一村”，是张店区重要的党性教育基地，同时也是革命传统教育和爱国主义教育的重要场所。基地包含红色东高纪念馆、赵克岭和曹文故居、红色文化广场三部分。红色东高纪念馆在沣水地区第一个党支部旧址上修缮扩建，由岗哨楼、红色东高纪念馆、致合堂药店遗址和党支部秘密活动室组成，集中展示了从东高村走出的10名高级将领和20多名抗日志士的事迹、资料、遗物等。赵克岭、曹文故居主要介绍两名烈士英勇牺牲的革命历史。主要包含以下看点：故居院内与党支部联络地道；赵克岭、曹文烈士故居；具有八百年历史的国槐，曹文烈士被捕后被吊在古槐上严刑拷打，最终被敌人残忍杀害。红色文化广场主要介绍沣水镇、东高村建村发展史。\\n【淄博知青博物馆】位于淄博市经开区沣水镇张一村工业园一路，于2019年建立，占地面积约1500亩，该馆共收集淄博知青在各个不同时期的文件、图片、资料一千六百多件，知青使用过的生活物品、乐器、书籍等各类实物近千件。以知青下乡地点为脉络，用质朴自然的展陈形式，客观真实地反映了当年淄博知青的生活情景和广大知情战斗天地的精神风貌。\\n【红军师师史馆】位于山东淄博张店区人民西路48号。71345部队前身为中国工农红军第一方面军第一军团第一师，在开国大典上代表人民解放军陆军主力组建12支步兵方队，被誉为“开国大典红一师”。红军师师史馆馆名由开国上将杨成武将军亲提，馆内由序幕厅、第一展厅、第二展厅和黑陶画厅组成，展示了“开国大典红一师”的诞生、战斗历程和精神风貌。\",\n",
      "    \"code\": \"hsyx\",\n",
      "    \"progress\": 4,\n",
      "    \"total\": 5\n",
      "  },\n",
      "  {\n",
      "    \"id\": 1,\n",
      "    \"title\": \"路线五：红色党史教育\",\n",
      "    \"name\": \"路线五：红色党史教育\",\n",
      "    \"mapurl\": \"https://djditu.oss-cn-qingdao.aliyuncs.com/line/luxian5.png\",\n",
      "    \"desc1\": \"红色党史教育\",\n",
      "    \"desc2\": \"分局出发（车程40分钟）——沣水镇红色东高革命教育基地（40分钟）—（车程15分钟）—淄博知青博物馆（30分钟）—（车程30分钟）—红军师师史馆（40分钟）——返回（车程10分钟）\\n\\n1.乘车前往沣水镇红色东高革命教育基地。早8:30从分局乘车出发，前往沣水镇红色东高革命教育基地，大约9:10到达。 2.参观沣水镇红色东高革命教育基地。9:30开始参观，大约10:10结束。\",\n",
      "    \"desc3\": \"【沣水镇红色东高革命教育基地】位于山东淄博市张店区沣水镇东高村。东高村是沣水镇“革命第一村”，是张店区重要的党性教育基地，同时也是革命传统教育和爱国主义教育的重要场所。基地包含红色东高纪念馆、赵克岭和曹文故居、红色文化广场三部分。红色东高纪念馆在沣水地区第一个党支部旧址上修缮扩建，由岗哨楼、红色东高纪念馆、致合堂药店遗址和党支部秘密活动室组成，集中展示了从东高村走出的10名高级将领和20多名抗日志士的事迹、资料、遗物等。赵克岭、曹文故居主要介绍两名烈士英勇牺牲的革命历史。主要包含以下看点：故居院内与党支部联络地道；赵克岭、曹文烈士故居；具有八百年历史的国槐，曹文烈士被捕后被吊在古槐上严刑拷打，最终被敌人残忍杀害。红色文化广场主要介绍沣水镇、东高村建村发展史。\\n【淄博知青博物馆】位于淄博市经开区沣水镇张一村工业园一路，于2019年建立，占地面积约1500亩，该馆共收集淄博知青在各个不同时期的文件、图片、资料一千六百多件，知青使用过的生活物品、乐器、书籍等各类实物近千件。以知青下乡地点为脉络，用质朴自然的展陈形式，客观真实地反映了当年淄博知青的生活情景和广大知情战斗天地的精神风貌。\\n【红军师师史馆】位于山东淄博张店区人民西路48号。71345部队前身为中国工农红军第一方面军第一军团第一师，在开国大典上代表人民解放军陆军主力组建12支步兵方队，被誉为“开国大典红一师”。红军师师史馆馆名由开国上将杨成武将军亲提，馆内由序幕厅、第一展厅、第二展厅和黑陶画厅组成，展示了“开国大典红一师”的诞生、战斗历程和精神风貌。\",\n",
      "    \"code\": \"hsyx\",\n",
      "    \"progress\": 4,\n",
      "    \"total\": 5\n",
      "  }\n",
      "]\n"
     ]
    }
   ],
   "source": [
    "import pandas as pd\n",
    "import json\n",
    "\n",
    "# 读取 Excel 文件\n",
    "excel_file = '路线.xlsx'  # 请替换为实际的 Excel 文件名\n",
    "df = pd.read_excel(excel_file)\n",
    "\n",
    "# 将 DataFrame 转换为 JSON 对象数组\n",
    "json_array = df.to_dict(orient='records')\n",
    "\n",
    "# 手动处理字符串列，保留特殊字符\n",
    "for record in json_array:\n",
    "    for key, value in record.items():\n",
    "        if isinstance(value, str):\n",
    "            record[key] = value.replace('\\\\n', '\\n')\n",
    "\n",
    "# 打印结果\n",
    "print(json.dumps(json_array, ensure_ascii=False, indent=2))\n",
    "\n"
   ]
  },
  {
   "cell_type": "code",
   "execution_count": 1,
   "id": "c29237d9",
   "metadata": {},
   "outputs": [
    {
     "name": "stdout",
     "output_type": "stream",
     "text": [
      "[\n",
      "  {\n",
      "    \"code\": \"hongjunshi\",\n",
      "    \"x\": 524,\n",
      "    \"y\": 838,\n",
      "    \"w\": 50,\n",
      "    \"h\": 50\n",
      "  }\n",
      "]\n"
     ]
    }
   ],
   "source": [
    "import pandas as pd\n",
    "import json\n",
    "\n",
    "# 读取 Excel 文件\n",
    "excel_file = '图上的标注点.xlsx'  # 请替换为实际的 Excel 文件名\n",
    "df = pd.read_excel(excel_file)\n",
    "\n",
    "# 将 DataFrame 转换为 JSON 对象数组\n",
    "json_array = df.to_dict(orient='records')\n",
    "\n",
    "# 手动处理字符串列，保留特殊字符\n",
    "for record in json_array:\n",
    "    for key, value in record.items():\n",
    "        if isinstance(value, str):\n",
    "            record[key] = value.replace('\\\\n', '\\n')\n",
    "\n",
    "# 打印结果\n",
    "print(json.dumps(json_array, ensure_ascii=False, indent=2))\n",
    "\n"
   ]
  },
  {
   "cell_type": "code",
   "execution_count": null,
   "id": "79154cc4",
   "metadata": {},
   "outputs": [],
   "source": []
  }
 ],
 "metadata": {
  "kernelspec": {
   "display_name": "Python 3 (ipykernel)",
   "language": "python",
   "name": "python3"
  },
  "language_info": {
   "codemirror_mode": {
    "name": "ipython",
    "version": 3
   },
   "file_extension": ".py",
   "mimetype": "text/x-python",
   "name": "python",
   "nbconvert_exporter": "python",
   "pygments_lexer": "ipython3",
   "version": "3.7.3"
  }
 },
 "nbformat": 4,
 "nbformat_minor": 5
}
