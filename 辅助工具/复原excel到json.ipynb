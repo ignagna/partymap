{
 "cells": [
  {
   "cell_type": "code",
   "execution_count": 7,
   "id": "7ad7c699",
   "metadata": {},
   "outputs": [
    {
     "name": "stdout",
     "output_type": "stream",
     "text": [
      "[{'areaCode': 'hongjunshi', 'areaName': {'first': '红军师师史馆', 'last': '张店区'}, 'info': {'id': 1, 'code': 'hongjunshi', 'mainPic': 'https://djditu.oss-cn-qingdao.aliyuncs.com/area/hongjunshi_head.jpg', 'name': '红军师师史馆', 'info': '位于山东淄博张店区人民西路48号。71345部队前身为中国工农红军第一方面军第一军团第一师，在开国大典上代表人民解放军陆军主力组建12支步兵方队，被誉为“开国大典红一师”。红军师师史馆馆名由开国上将杨成武将军亲提，馆内由序幕厅、第一展厅、第二展厅和黑陶画厅组成，展示了“开国大典红一师”的诞生、战斗历程和精神风貌。', 'concatPerson': 15205332001, 'bannerList': ['https://djditu.oss-cn-qingdao.aliyuncs.com/area/hongjunshi_head.jpg'], 'notice': '为保证参观效果，建议参观人数控制在40人内；红军师师史馆受部队管控，不允许在馆内、门口拍摄照片，不允许拍摄集体合照、不允许进行任何宣传。提前准备事项：参观红军师师史馆需提前发函，列明参观单位名称、时间、人数、事由，并附表列明姓名、职务等信息。', 'line': '分局出发（车程40分钟）——沣水镇红色东高革命教育基地（40分钟）—（车程15分钟）—淄博知青博物馆（30分钟）—（车程30分钟）—红军师师史馆（40分钟）——返回（车程10分钟）'}, 'callout': {'id': 1, 'latitude': 36.81465, 'longitude': 118.040405}}, {'areaCode': 'zhiqing', 'areaName': {'first': '知青博物馆', 'last': '张店区'}, 'info': {'id': 1, 'code': 'zhiqing', 'mainPic': 'https://djditu.oss-cn-qingdao.aliyuncs.com/area/zhiqing_head.jpg', 'name': '淄博知青博物馆', 'info': '位于淄博市经开区沣水镇张一村工业园一路，于2019年建立，占地面积约1500亩，该馆共收集淄博知青在各个不同时期的文件、图片、资料一千六百多件，知青使用过的生活物品、乐器、书籍等各类实物近千件。以知青下乡地点为脉络，用质朴自然的展陈形式，客观真实地反映了当年淄博知青的生活情景和广大知情战斗天地的精神风貌。', 'concatPerson': 15205332002, 'bannerList': ['https://djditu.oss-cn-qingdao.aliyuncs.com/area/zhiqing_1.jpg', 'https://djditu.oss-cn-qingdao.aliyuncs.com/area/zhiqing_2.jpg'], 'notice': '为保证参观效果，建议参观人数控制在20人内；建议在淄博知青博物馆展馆前拍一张集体合照。提前准备事项：参观红色东高革命教育基地和淄博知青博物馆需提前电话预约。', 'line': '分局出发（车程40分钟）——沣水镇红色东高革命教育基地（40分钟）—（车程15分钟）—淄博知青博物馆（30分钟）—（车程30分钟）—红军师师史馆（40分钟）——返回（车程10分钟）'}, 'callout': {'id': 1, 'latitude': 36.775708, 'longitude': 118.103451}}, {'areaCode': 'fengshuizhen', 'areaName': {'first': '沣水镇红色东高革命教育基地', 'last': '张店区'}, 'info': {'id': 1, 'code': 'fengshuizhen', 'mainPic': 'https://djditu.oss-cn-qingdao.aliyuncs.com/area/fengshuizhen_head.jpg', 'name': '沣水镇红色东高革命教育基地', 'info': '位于山东淄博市张店区沣水镇东高村。东高村是沣水镇“革命第一村”，是张店区重要的党性教育基地，同时也是革命传统教育和爱国主义教育的重要场所。基地包含红色东高纪念馆、赵克岭和曹文故居、红色文化广场三部分。红色东高纪念馆在沣水地区第一个党支部旧址上修缮扩建，由岗哨楼、红色东高纪念馆、致合堂药店遗址和党支部秘密活动室组成，集中展示了从东高村走出的10名高级将领和20多名抗日志士的事迹、资料、遗物等。赵克岭、曹文故居主要介绍两名烈士英勇牺牲的革命历史。主要包含以下看点：故居院内与党支部联络地道；赵克岭、曹文烈士故居；具有八百年历史的国槐，曹文烈士被捕后被吊在古槐上严刑拷打，最终被敌人残忍杀害。红色文化广场主要介绍沣水镇、东高村建村发展史。', 'concatPerson': 15205332003, 'bannerList': ['https://djditu.oss-cn-qingdao.aliyuncs.com/area/fengshuizhen_head.jpg'], 'notice': '为保证参观效果，建议参观人数控制在20人内；建议在东高村委和红色文化广场各拍一张集体合照；可视参观时间在东高村内自由参观。', 'line': '分局出发（车程40分钟）——沣水镇红色东高革命教育基地（40分钟）—（车程15分钟）—淄博知青博物馆（30分钟）—（车程30分钟）—红军师师史馆（40分钟）——返回（车程10分钟）'}, 'callout': {'id': 1, 'latitude': 36.757827, 'longitude': 118.124872}}, {'areaCode': 'zhuyanfu', 'areaName': {'first': '朱彦夫事迹宣传教育基地', 'last': '沂源县'}, 'info': {'id': 2, 'code': 'zhuyanfu', 'mainPic': 'https://djditu.oss-cn-qingdao.aliyuncs.com/area/zhuyanfu_head.jpg', 'name': '朱彦夫事迹宣传教育基地', 'info': '朱彦夫事迹党性教育基地，位于沂源县张家泉村。基地始建于2014年2月，后于2017年重新改造提升，2018年6月29日正式对外免费开放。自新馆开馆以来，先后接待省、市、县各类团体、班次500余个，人数达到1.8万余人次，取得了良好的培训效果。基地主要包括：朱彦夫事迹展览馆、多功能报告厅、夜校、旧居、棚沟造地、友谊机灌站、红山梯田、大寨田等教学点。朱彦夫事迹展馆面积700平方米，布展面积415平方米。展馆共分六个展区，分别是：序厅（前言），第一部分（保家卫国 身残志坚），第二部分（不忘初心 勇于担当），第三部分（中国保尔 极限人生），第四部分（时代楷模 光耀千秋），尾厅（结束语）。展馆内展出图片2200余幅，实物860件。采用声、光、电等现代化的表现手法，让人以身临其境的感觉。展馆内既有雕塑、微缩景观、场景还原，又有动漫视频、同期视频，还有电子翻页书屏、触摸屏等。向人们生动地再现了朱彦夫在解放战争和抗美援朝战场上英勇杀敌；回村后带领群众战天斗地、脱贫致富；为教育激励后人，用嘴衔笔、残肢抱笔，顽强创作的一个个动人场景。先后被命名为“淄博市退役军人教育实践基地” “山东省退役军人思想政治教育基地”。 ', 'concatPerson': '0533-3341006、15866264448', 'bannerList': ['https://djditu.oss-cn-qingdao.aliyuncs.com/area/zhuyanfu_1.jpg', 'https://djditu.oss-cn-qingdao.aliyuncs.com/area/zhuyanfu_2.jpg', 'https://djditu.oss-cn-qingdao.aliyuncs.com/area/zhuyanfu_3.jpg'], 'notice': '开放时间为周二至周日9-11 13：30-16：30，无需对公材料，提前电话预约。参观免费，讲解费用200元，25人以内效果最佳。', 'line': '分局出发（车程140分钟）——朱彦夫事迹党性教育基地（60分钟）—（车程35分钟）—万祥山红色记忆馆（50分钟）——返回（车程120分钟），或者分局出发（车程140分钟）——朱彦夫事迹党性教育基地（60分钟）—（车程70分钟）—618战备电台旧址（70分钟）——返回（车程90分钟）'}, 'callout': {'id': 1, 'latitude': 36.00971, 'longitude': 118.25}}, {'areaCode': 'wangyuyang', 'areaName': {'first': '王渔洋政德教育基地', 'last': '桓台县'}, 'info': {'id': 8, 'code': 'wangyuyang', 'mainPic': 'https://djditu.oss-cn-qingdao.aliyuncs.com/area/wangyuyangzhengdejiaoyujidi_head.jpg', 'name': '王渔洋政德教育基地', 'info': '王渔洋政德教育基地位于桓台县新城镇，于1986年12月开始对外开放，目前已打造形成忠勤祠、王渔洋故居、四世宫保砖坊等现场教学区。其中，忠勤祠现占地10000多平方米，是省级重点文物保护单位；王渔洋故居占地15000余平方米，是全国重点文物保护单位；四世宫保砖坊是全国重点文物保护单位', 'concatPerson': '13706430939\\n0533-8886806', 'bannerList': ['https://djditu.oss-cn-qingdao.aliyuncs.com/area/wangyuyangzhengdejiaoyujidi_1.jpg', 'https://djditu.oss-cn-qingdao.aliyuncs.com/area/wangyuyangzhengdejiaoyujidi_2.jpg', 'https://djditu.oss-cn-qingdao.aliyuncs.com/area/wangyuyangzhengdejiaoyujidi_3.jpg'], 'notice': '开放时间：上午8:30-11:30下午13:30-16:30。可扫码预约，微信小程序搜索“云游齐鲁\",搜索“王渔洋故居“。为保证参观效果，建议每30人配一名讲解员。', 'line': '分局出发（车程36分钟）——王渔洋政德教育基地（参观150分钟）——返回（车程36分钟）'}, 'callout': {'id': 1, 'latitude': 36.95025, 'longitude': 117.941211}}, {'areaCode': 'qiyunhuanghe', 'areaName': {'first': '齐韵黄河文化展馆', 'last': '高青县'}, 'info': {'id': 9, 'code': 'qiyunhuanghe', 'mainPic': 'https://djditu.oss-cn-qingdao.aliyuncs.com/area/qiyunhuanghewenhuazhanguan_head.jpg', 'name': '齐韵黄河文化展馆', 'info': '齐韵黄河文化展馆位于淄博市高青县黄河建设管理基地，是一座历史文化馆，同时也是一座原创艺术馆，馆内有浮雕4幅、瓷板画4幅、雕塑7组、绘画28组，均为原创。展馆从“中华文化根和魂”的高度，系统展示黄河文化与齐文化的关系，黄河文明与流域文明的关系，进而唤起人们对洪水的警觉、对水资源的珍爱、对黄河流域生态保护和高质量发展的理解、重视和支持。展馆历时近2年建成，面积700余平方米、分八个展区，运用雕塑、文字图片、重彩绘画、场景复原、刻瓷壁画、光电视频等综合手段，展示黄河对流域文明发生、发展、繁荣的巨大影响，展现具有齐文化特色的黄河文化，成为黄河岸边璀璨的“文化明珠”。', 'concatPerson': 18553388804, 'bannerList': ['https://djditu.oss-cn-qingdao.aliyuncs.com/area/qiyunhuanghewenhuazhanguan_1.jpg', 'https://djditu.oss-cn-qingdao.aliyuncs.com/area/qiyunhuanghewenhuazhanguan_2.jpg'], 'notice': '需要联系淄博市黄河河务局办公室李伟波18553388804预约', 'line': '分局出发（车程60分钟）——齐韵黄河文化展馆（参观60分钟）——返回（60分钟）'}, 'callout': {'id': 1, 'latitude': 37.258872, 'longitude': 117.887088}}, {'areaCode': 'qiwenhua', 'areaName': {'first': '齐文化博物馆', 'last': '临淄区'}, 'info': {'id': 10, 'code': 'qiwenhua', 'mainPic': 'https://djditu.oss-cn-qingdao.aliyuncs.com/area/qiwenhuabowuguan_head.jpg', 'name': '齐文化博物馆', 'info': '位于淄博市临淄区临淄大道308号，国家AAA级景区,是一座集文物收藏、展陈、保护、研究、教育、休闲功能于一体的综合博物馆。主要包括四个展厅：基本陈列展厅、特色陈列展厅、专题陈列展厅、临时展厅。基本陈列展厅是以齐国故都八百年的兴衰变迁为基点，分为先齐文明、西周之齐、春秋齐国、战国之齐、秦汉齐风、稷下学宫、余韵传承等八个部分。特色陈列厅包括齐地考古、煌煌齐都、稷下学宫、石刻等厅。专题陈列厅包括临淄党史、廉政教育、陶拍、瓷器、书画等厅（目前党史、廉政展厅在维修，暂不对外开放）。', 'concatPerson': '0533-6292898', 'bannerList': ['https://djditu.oss-cn-qingdao.aliyuncs.com/area/qiwenhuabowuguan_1.jpg'], 'notice': '周一闭馆（法定节假日除外），9：00-17：00（16：30停止入场），通过“齐文化博物馆”微信公众号预约（分时段预约），门票免费，讲解需提前预约。', 'line': '分局出发（车程35分钟）——齐文化博物馆（60-120分钟）—返回（车程35分钟）'}, 'callout': {'id': 1, 'latitude': 118.37148, 'longitude': 36.81949}}, {'areaCode': 'jiaoyulu', 'areaName': {'first': '焦裕禄纪念馆', 'last': '博山区'}, 'info': {'id': 11, 'code': 'jiaoyulu', 'mainPic': 'https://djditu.oss-cn-qingdao.aliyuncs.com/area/jiaoyulujinianguan_head.jpg', 'name': '焦裕禄纪念馆', 'info': '焦裕禄纪念馆位于山东省淄博市博山区北固山村，始建于1966年5月，1967年1月正式开馆，是全国最早建立的焦裕禄纪念馆。纪念馆由胡乔木同志题写馆名，占地面积10000平方米，建筑面积约3600平方米，包括焦裕禄生平事迹展厅、焦裕禄故居、多功能影像厅等部分，生动展示了焦裕禄同志全心全意为人民服务，鞠躬尽瘁、死而后已的光辉一生。', 'concatPerson': '0533-4820152', 'bannerList': ['https://djditu.oss-cn-qingdao.aliyuncs.com/area/jiaoyulujinianguan_1.jpg', 'https://djditu.oss-cn-qingdao.aliyuncs.com/area/jiaoyulujinianguan_2.jpg'], 'notice': '开放时间：上午9:00-下午16:00。\\n可以关注“博山焦裕禄纪念馆”公众号预约，预约后电话联系。', 'line': '分局出发（车程70分钟）——焦裕禄纪念馆（60分钟）—（车程16分钟）—山东原山艰苦创业纪念馆（90分钟）——返回（车程70分钟）'}, 'callout': {'id': 1, 'latitude': 117.99846, 'longitude': 36.44333}}, {'areaCode': 'zhoucungu', 'areaName': {'first': '周村古商城', 'last': '周村区'}, 'info': {'id': 12, 'code': 'zhoucungu', 'mainPic': 'https://djditu.oss-cn-qingdao.aliyuncs.com/area/zhoucungushangcheng_head.jpg', 'name': '周村古商城', 'info': '周村古商城其历史最早可以追溯至明永乐八年（1410年）兴建的古商业街。周村古商城历经数百年风雨仍保留完好，素有“旱码头”“金周村”“丝绸之乡”“天下第一村”的美誉，被中国古建筑保护委员会的专家誉为“中国活着的古商业建筑博物馆群”。\\n周村古商城内分布着千佛寺庙群、三益堂印刷展馆、谦祥益、瑞蚨祥、历史文化展览馆、丝绸文化体验馆、英美烟草公司展览馆、状元府、票证博物馆、票号展览馆、杨家大院、大染坊、魁星阁庙群、淄博艺术博物馆等10多处具有较强的知识性和趣味性的景点。', 'concatPerson': '0533-6450097', 'bannerList': ['https://djditu.oss-cn-qingdao.aliyuncs.com/area/zhoucungushangcheng_1.jpg'], 'notice': '24小时营业', 'line': '分局出发（车程45分钟）——周村古商城（参观120分钟）——返回（45分钟）'}, 'callout': {'id': 1, 'latitude': 117.84852, 'longitude': 36.80462}}, {'areaCode': 'pusongling', 'areaName': {'first': '蒲松龄纪念馆', 'last': '淄川区'}, 'info': {'id': 13, 'code': 'pusongling', 'mainPic': 'https://djditu.oss-cn-qingdao.aliyuncs.com/area/pusonglingjinianguan_head.jpg', 'name': '蒲松龄纪念馆', 'info': '六个小院、七个展室，占地面积5000多平方米、展览面积2000多平方米，陈列体系完备、展览内容 丰富。蒲松龄纪念馆先后获得省级爱国主义教育基地、省级青年文明号、市级文明单位、花园式单位、青年文明示范岗等荣誉称号。', 'concatPerson': '0533-5810168', 'bannerList': ['https://djditu.oss-cn-qingdao.aliyuncs.com/area/pusonglingjinianguan_1.jpg'], 'notice': '09:00:00-17:00', 'line': '分局出发（车程60分钟）——蒲松龄纪念馆（60分钟）——返回（60分钟）'}, 'callout': {'id': 1, 'latitude': 118.01546, 'longitude': 36.63658}}, {'areaCode': 'liuyiba', 'areaName': {'first': '六一八备战电台旧址', 'last': '沂源县'}, 'info': {'id': 14, 'code': 'liuyiba', 'mainPic': 'https://djditu.oss-cn-qingdao.aliyuncs.com/area/jiaoyulujinianguan_head.jpg', 'name': '六一八备战电台旧址', 'info': '位于山东淄博沂源县鲁村镇峨峪村。该旧址曾是华东地区规模最大、保存最完整的战备电台此电台是二十世纪六十年代为适应国防需要，由时任济南军区司令员的杨德志将军亲自选址兴建的，能够覆盖淄博、临沂、潍坊、泰安等 13 个市县。幽深的山中说道、老式的广播设备、浓郁的军事战备色彩、神秘的洞中生活，对于探寻历史遗迹，缅怀峥嵘岁月，有着强烈的启示借鉴作用', 'concatPerson': '0533-6241618', 'bannerList': ['https://djditu.oss-cn-qingdao.aliyuncs.com/area/jiaoyulujinianguan_1.jpg', 'https://djditu.oss-cn-qingdao.aliyuncs.com/area/jiaoyulujinianguan_2.jpg'], 'notice': '8:30-17:00', 'line': '分局出发（车程90分钟）——六一八战备电台旧址（参观70分钟）——返程（90分钟）'}, 'callout': {'id': 1, 'latitude': 118.00831, 'longitude': 36.23596}}, {'areaCode': 'heitieshan', 'areaName': {'first': '黑铁山抗日武装起义纪念馆', 'last': '张店区'}, 'info': {'id': 15, 'code': 'heitieshan', 'mainPic': 'https://djditu.oss-cn-qingdao.aliyuncs.com/area/zhoucungushangcheng_head.jpg', 'name': '黑铁山抗日武装起义纪念馆', 'info': '黑铁山抗日武装起义纪念馆位于山东淄博高新区太平村，为纪念黑铁山抗日武装起义而建立。“九一八”事变后，中国共产党领导群众在黑铁山太平庄发动起义，成功打响了鲁中地区抗日的“第一枪”。该馆建筑面积 1200 平方米分上下两层，馆内陈列了从黑铁山抗日武装起义爆发到它不断整编转战的全部过程', 'concatPerson': '0533-3781453', 'bannerList': ['https://djditu.oss-cn-qingdao.aliyuncs.com/area/zhoucungushangcheng_1.jpg'], 'notice': '周二到周日   8：30-11：30  13：30-17：30', 'line': '分局出发（车程20分钟）——黑铁山抗日武装起义纪念馆（参观45分钟）——返程（20分钟）'}, 'callout': {'id': 1, 'latitude': 118.16673, 'longitude': 36.85007}}, {'areaCode': 'zibomeikuang', 'areaName': {'first': '淄博煤矿博物馆', 'last': '淄川区'}, 'info': {'id': 16, 'code': 'zibomeikuang', 'mainPic': 'https://djditu.oss-cn-qingdao.aliyuncs.com/area/pusonglingjinianguan_head.jpg', 'name': '淄博煤矿博物馆', 'info': '淄博煤矿博物馆分上下两层，由13个展室和1个矿工墓组成。中共一大代表王尽美、邓恩铭曾长期深入淄博矿区，开展工人运动，发展党的组织。进入博物馆后，聆听讲解员的个绍，观看馆内的历史文献、照片资料、实物资料等，深入了解淄矿背后那段波澜壮阔的历史:之后在讲解员的引导下，全体党员在党旗前宣誓，重温入党誓词，感悟初心使命。', 'concatPerson': '0533-5850485', 'bannerList': ['https://djditu.oss-cn-qingdao.aliyuncs.com/area/pusonglingjinianguan_1.jpg'], 'notice': '周一到周五   9:00-12:00      14:00-17:00', 'line': '分局出发（车程50分钟）——淄博煤矿博物馆（参观60分钟）——返程（50分钟）'}, 'callout': {'id': 1, 'latitude': 117.99596, 'longitude': 36.64443}}]\n"
     ]
    },
    {
     "name": "stderr",
     "output_type": "stream",
     "text": [
      "C:\\Users\\fe\\miniconda3\\Lib\\site-packages\\openpyxl\\styles\\stylesheet.py:226: UserWarning: Workbook contains no default style, apply openpyxl's default\n",
      "  warn(\"Workbook contains no default style, apply openpyxl's default\")\n"
     ]
    }
   ],
   "source": [
    "import pandas as pd\n",
    "import ast\n",
    "\n",
    "# 读取 Excel 文件\n",
    "excel_file = 'C:\\\\Users\\\\fe\\\\Desktop\\\\阵地.xlsx'  # 请替换为实际的 Excel 文件名\n",
    "df = pd.read_excel(excel_file)\n",
    "\n",
    "# 将 DataFrame 转换为 JSON 对象数组\n",
    "json_array = []\n",
    "\n",
    "for _, row in df.iterrows():\n",
    "    json_obj = {}\n",
    "    for col, val in row.items():\n",
    "        keys = col.split('.')\n",
    "        current_obj = json_obj\n",
    "        for key in keys[:-1]:\n",
    "            if key not in current_obj:\n",
    "                current_obj[key] = {}\n",
    "            current_obj = current_obj[key]\n",
    "        if keys[-1] not in current_obj:\n",
    "            try:\n",
    "                current_obj[keys[-1]] = ast.literal_eval(val)  # Convert string to list\n",
    "            except (ValueError, SyntaxError):  # Handle the case when the value is not a valid literal\n",
    "                current_obj[keys[-1]] = val\n",
    "    json_array.append(json_obj)\n",
    "\n",
    "# 打印结果\n",
    "print(json_array)"
   ]
  },
  {
   "cell_type": "code",
   "execution_count": 8,
   "id": "d8efb40d",
   "metadata": {},
   "outputs": [
    {
     "name": "stdout",
     "output_type": "stream",
     "text": [
      "[\n",
      "  {\n",
      "    \"id\": 1,\n",
      "    \"title\": \"路线五：红色党史教育\",\n",
      "    \"name\": \"路线五：红色党史教育\",\n",
      "    \"mapurl\": \"https://djditu.oss-cn-qingdao.aliyuncs.com/line/luxian5.png\",\n",
      "    \"desc1\": \"红色党史教育\",\n",
      "    \"desc2\": \"分局出发（车程40分钟）——沣水镇红色东高革命教育基地（40分钟）—（车程15分钟）—淄博知青博物馆（30分钟）—（车程30分钟）—红军师师史馆（40分钟）——返回（车程10分钟）\\n\\n1.乘车前往沣水镇红色东高革命教育基地。早8:30从分局乘车出发，前往沣水镇红色东高革命教育基地，大约9:10到达。 2.参观沣水镇红色东高革命教育基地。9:30开始参观，大约10:10结束。\",\n",
      "    \"desc3\": \"【沣水镇红色东高革命教育基地】位于山东淄博市张店区沣水镇东高村。东高村是沣水镇“革命第一村”，是张店区重要的党性教育基地，同时也是革命传统教育和爱国主义教育的重要场所。基地包含红色东高纪念馆、赵克岭和曹文故居、红色文化广场三部分。红色东高纪念馆在沣水地区第一个党支部旧址上修缮扩建，由岗哨楼、红色东高纪念馆、致合堂药店遗址和党支部秘密活动室组成，集中展示了从东高村走出的10名高级将领和20多名抗日志士的事迹、资料、遗物等。赵克岭、曹文故居主要介绍两名烈士英勇牺牲的革命历史。主要包含以下看点：故居院内与党支部联络地道；赵克岭、曹文烈士故居；具有八百年历史的国槐，曹文烈士被捕后被吊在古槐上严刑拷打，最终被敌人残忍杀害。红色文化广场主要介绍沣水镇、东高村建村发展史。\\n【淄博知青博物馆】位于淄博市经开区沣水镇张一村工业园一路，于2019年建立，占地面积约1500亩，该馆共收集淄博知青在各个不同时期的文件、图片、资料一千六百多件，知青使用过的生活物品、乐器、书籍等各类实物近千件。以知青下乡地点为脉络，用质朴自然的展陈形式，客观真实地反映了当年淄博知青的生活情景和广大知情战斗天地的精神风貌。\\n【红军师师史馆】位于山东淄博张店区人民西路48号。71345部队前身为中国工农红军第一方面军第一军团第一师，在开国大典上代表人民解放军陆军主力组建12支步兵方队，被誉为“开国大典红一师”。红军师师史馆馆名由开国上将杨成武将军亲提，馆内由序幕厅、第一展厅、第二展厅和黑陶画厅组成，展示了“开国大典红一师”的诞生、战斗历程和精神风貌。\",\n",
      "    \"code\": \"hsyx\",\n",
      "    \"progress\": 4,\n",
      "    \"total\": 5\n",
      "  }\n",
      "]\n"
     ]
    }
   ],
   "source": [
    "import pandas as pd\n",
    "import json\n",
    "\n",
    "# 读取 Excel 文件\n",
    "excel_file = '路线.xlsx'  # 请替换为实际的 Excel 文件名\n",
    "df = pd.read_excel(excel_file)\n",
    "\n",
    "# 将 DataFrame 转换为 JSON 对象数组\n",
    "json_array = df.to_dict(orient='records')\n",
    "\n",
    "# 手动处理字符串列，保留特殊字符\n",
    "for record in json_array:\n",
    "    for key, value in record.items():\n",
    "        if isinstance(value, str):\n",
    "            record[key] = value.replace('\\\\n', '\\n')\n",
    "\n",
    "# 打印结果\n",
    "print(json.dumps(json_array, ensure_ascii=False, indent=2))\n",
    "\n"
   ]
  },
  {
   "cell_type": "code",
   "execution_count": 9,
   "id": "c29237d9",
   "metadata": {},
   "outputs": [
    {
     "name": "stdout",
     "output_type": "stream",
     "text": [
      "[\n",
      "  {\n",
      "    \"code\": \"zhiqing\",\n",
      "    \"x\": 509,\n",
      "    \"y\": 576,\n",
      "    \"w\": 50,\n",
      "    \"h\": 50\n",
      "  },\n",
      "  {\n",
      "    \"code\": \"hongjunshi\",\n",
      "    \"x\": 427,\n",
      "    \"y\": 480,\n",
      "    \"w\": 50,\n",
      "    \"h\": 50\n",
      "  },\n",
      "  {\n",
      "    \"code\": \"fengshuizhen\",\n",
      "    \"x\": 488,\n",
      "    \"y\": 529,\n",
      "    \"w\": 50,\n",
      "    \"h\": 50\n",
      "  },\n",
      "  {\n",
      "    \"code\": \"liuyiba\",\n",
      "    \"x\": 395,\n",
      "    \"y\": 1149,\n",
      "    \"w\": 50,\n",
      "    \"h\": 50\n",
      "  },\n",
      "  {\n",
      "    \"code\": \"zhuyanfu\",\n",
      "    \"x\": 604,\n",
      "    \"y\": 1374,\n",
      "    \"w\": 50,\n",
      "    \"h\": 50\n",
      "  },\n",
      "  {\n",
      "    \"code\": \"qiyunhuanghe\",\n",
      "    \"x\": 160,\n",
      "    \"y\": 67,\n",
      "    \"w\": 50,\n",
      "    \"h\": 50\n",
      "  },\n",
      "  {\n",
      "    \"code\": \"wangyuyang\",\n",
      "    \"x\": 349,\n",
      "    \"y\": 337,\n",
      "    \"w\": 50,\n",
      "    \"h\": 50\n",
      "  },\n",
      "  {\n",
      "    \"code\": \"qiwenhua\",\n",
      "    \"x\": 642,\n",
      "    \"y\": 541,\n",
      "    \"w\": 50,\n",
      "    \"h\": 50\n",
      "  },\n",
      "  {\n",
      "    \"code\": \"jixiaxuegong\",\n",
      "    \"x\": 676,\n",
      "    \"y\": 460,\n",
      "    \"w\": 50,\n",
      "    \"h\": 50\n",
      "  },\n",
      "  {\n",
      "    \"code\": \"pusongling\",\n",
      "    \"x\": 451,\n",
      "    \"y\": 714,\n",
      "    \"w\": 50,\n",
      "    \"h\": 50\n",
      "  },\n",
      "  {\n",
      "    \"code\": \"zhoucungu\",\n",
      "    \"x\": 260,\n",
      "    \"y\": 555,\n",
      "    \"w\": 50,\n",
      "    \"h\": 50\n",
      "  },\n",
      "  {\n",
      "    \"code\": \"jiaoyulu\",\n",
      "    \"x\": 382,\n",
      "    \"y\": 942,\n",
      "    \"w\": 50,\n",
      "    \"h\": 50\n",
      "  }\n",
      "]\n"
     ]
    },
    {
     "name": "stderr",
     "output_type": "stream",
     "text": [
      "C:\\Users\\fe\\miniconda3\\Lib\\site-packages\\openpyxl\\styles\\stylesheet.py:226: UserWarning: Workbook contains no default style, apply openpyxl's default\n",
      "  warn(\"Workbook contains no default style, apply openpyxl's default\")\n"
     ]
    }
   ],
   "source": [
    "import pandas as pd\n",
    "import json\n",
    "\n",
    "# 读取 Excel 文件\n",
    "excel_file = 'C:\\\\Users\\\\fe\\\\Desktop\\\\图上的标注点.xlsx'  # 请替换为实际的 Excel 文件名\n",
    "df = pd.read_excel(excel_file)\n",
    "\n",
    "# 将 DataFrame 转换为 JSON 对象数组\n",
    "json_array = df.to_dict(orient='records')\n",
    "\n",
    "# 手动处理字符串列，保留特殊字符\n",
    "for record in json_array:\n",
    "    for key, value in record.items():\n",
    "        if isinstance(value, str):\n",
    "            record[key] = value.replace('\\\\n', '\\n')\n",
    "\n",
    "# 打印结果\n",
    "print(json.dumps(json_array, ensure_ascii=False, indent=2))\n",
    "\n"
   ]
  },
  {
   "cell_type": "code",
   "execution_count": null,
   "id": "79154cc4",
   "metadata": {},
   "outputs": [],
   "source": []
  }
 ],
 "metadata": {
  "kernelspec": {
   "display_name": "Python 3 (ipykernel)",
   "language": "python",
   "name": "python3"
  },
  "language_info": {
   "codemirror_mode": {
    "name": "ipython",
    "version": 3
   },
   "file_extension": ".py",
   "mimetype": "text/x-python",
   "name": "python",
   "nbconvert_exporter": "python",
   "pygments_lexer": "ipython3",
   "version": "3.11.4"
  }
 },
 "nbformat": 4,
 "nbformat_minor": 5
}
